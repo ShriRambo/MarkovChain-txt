{
 "cells": [
  {
   "cell_type": "markdown",
   "metadata": {},
   "source": [
    "# Initial imports"
   ]
  },
  {
   "cell_type": "code",
   "execution_count": 1,
   "metadata": {},
   "outputs": [],
   "source": [
    "import numpy as np"
   ]
  },
  {
   "cell_type": "code",
   "execution_count": 2,
   "metadata": {},
   "outputs": [],
   "source": [
    "import re"
   ]
  },
  {
   "cell_type": "code",
   "execution_count": null,
   "metadata": {},
   "outputs": [],
   "source": []
  },
  {
   "cell_type": "markdown",
   "metadata": {},
   "source": [
    "# Processing Data"
   ]
  },
  {
   "cell_type": "code",
   "execution_count": 3,
   "metadata": {},
   "outputs": [],
   "source": [
    "file = open('./Source_text/Shakespear_sonnets.txt','r')"
   ]
  },
  {
   "cell_type": "code",
   "execution_count": 4,
   "metadata": {
    "code_folding": []
   },
   "outputs": [],
   "source": [
    "sonnets = []\n",
    "nchars = []\n",
    "sonnet = ''\n",
    "skipChar = '\\(|\\)' # Characters to skip RegEx\n",
    "for line in file:\n",
    "    line = line.strip().lower() + ' '  # Strippint leading spaces of each line and making each character lower case\n",
    "    line = re.sub(skipChar,'',line)\n",
    "    if (len(line)==1):\n",
    "        continue\n",
    "    elif (len(line) < 6): # i.e. if it is line represenitng sonnet number\n",
    "        sonnets.extend([sonnet])\n",
    "        sonnet = ''\n",
    "    else:\n",
    "        sonnet += line\n",
    "        if len(line) not in nchars: nchars.extend([len(line)])\n",
    "        \n",
    "        \n",
    "sonnets.extend([sonnet])\n",
    "del sonnets[0]"
   ]
  },
  {
   "cell_type": "code",
   "execution_count": 5,
   "metadata": {
    "scrolled": true
   },
   "outputs": [],
   "source": [
    "assert len(sonnets) == 154, 'Something is wrong: Only {} sonnets are there'.format(len(sonnets))"
   ]
  },
  {
   "cell_type": "code",
   "execution_count": 6,
   "metadata": {},
   "outputs": [
    {
     "data": {
      "text/plain": [
       "\"from fairest creatures we desire increase, that thereby beauty's rose might never die, but as the riper should by time decease, his tender heir might bear his memory: but thou contracted to thine own bright eyes, feed'st thy light's flame with self-substantial fuel, making a famine where abundance lies, thy self thy foe, to thy sweet self too cruel: thou that art now the world's fresh ornament, and only herald to the gaudy spring, within thine own bud buriest thy content, and tender churl mak'st waste in niggarding: pity the world, or else this glutton be, to eat the world's due, by the grave and thee. \""
      ]
     },
     "execution_count": 6,
     "metadata": {},
     "output_type": "execute_result"
    }
   ],
   "source": [
    "sonnets[0]"
   ]
  },
  {
   "cell_type": "markdown",
   "metadata": {},
   "source": [
    " Each line in sonnet is 30 to 60 char long."
   ]
  },
  {
   "cell_type": "markdown",
   "metadata": {},
   "source": [
    "# Learning probabilities"
   ]
  },
  {
   "cell_type": "code",
   "execution_count": 7,
   "metadata": {
    "code_folding": []
   },
   "outputs": [],
   "source": [
    "probs = {}\n",
    "Inits = []\n",
    "order = 5\n",
    "for sonnet in sonnets:\n",
    "    n = len(sonnet)\n",
    "    Inits.extend([sonnet[0:order]])\n",
    "    for i in range(0,n-order):\n",
    "        ngram = sonnet[i:i+order];\n",
    "        nchar = sonnet[i+order];\n",
    "        try:\n",
    "            probs[ngram] += nchar\n",
    "        except KeyError:\n",
    "            probs[ngram] = nchar"
   ]
  },
  {
   "cell_type": "markdown",
   "metadata": {},
   "source": [
    "# Generating a sonnet"
   ]
  },
  {
   "cell_type": "markdown",
   "metadata": {
    "heading_collapsed": true
   },
   "source": [
    "## Trial 1"
   ]
  },
  {
   "cell_type": "code",
   "execution_count": 7,
   "metadata": {
    "hidden": true
   },
   "outputs": [],
   "source": [
    "def getSonnet():\n",
    "    stin = np.random.choice(Inits)\n",
    "    ngram = stin\n",
    "    nline = 0 \n",
    "    while(nline < 14):\n",
    "        try:\n",
    "            st = probs[ngram]\n",
    "        except KeyError:\n",
    "            break\n",
    "        ch = np.random.choice(list(st));\n",
    "        if ch == '\\n': nline+= 1\n",
    "        stin += ch\n",
    "        #print(stin)\n",
    "        \n",
    "\n",
    "    print(stin)"
   ]
  },
  {
   "cell_type": "code",
   "execution_count": 80,
   "metadata": {
    "hidden": true
   },
   "outputs": [
    {
     "name": "stdout",
     "output_type": "stream",
     "text": [
      "let not every whereof nough i might,\n",
      "stealing men.\n",
      "yet him from heaven's scythe cold,\n",
      "not be new.\n",
      "most of this, that gift, thy beauty's doom and truth upon,\n",
      "no shalt winter's second live no holy and no more praise the till tongue-tied patient with thy worst was\n",
      "shall carry me after youth do i quest of tallies but the best engross boast,\n",
      "whilst my sight, my looks his looks have life being made tongue says it this power add some say i love what sweetest to win!\n",
      "what sweet that case we proud crying to thy lover's so vexed with taught to reason hunted, and for my love as i all fulfil these prevenge upon,\n",
      "no news but when i should deserve to do offenders to compare,\n",
      "or say 'tis flowers in hue all men proclaims olives of thines, and arts with his figure, thou fleet'st fortune and that in thy sensual faults grow many,\n",
      "but when i am not seem,\n",
      "yet in the twice in this admiring being fire did frame me is great vex me wanting,\n",
      "pointing pale, dreading shame no corrupt by adding times more i heart twice forgot,\n",
      "\n"
     ]
    }
   ],
   "source": [
    "getSonnet()"
   ]
  },
  {
   "cell_type": "markdown",
   "metadata": {},
   "source": [
    "## Trial 2"
   ]
  },
  {
   "cell_type": "markdown",
   "metadata": {},
   "source": [
    "Generating sonnets Line by line"
   ]
  },
  {
   "cell_type": "code",
   "execution_count": 8,
   "metadata": {},
   "outputs": [],
   "source": [
    "def getLine(ngram, firstline):\n",
    "    sstart = ngram\n",
    "    stin = ngram\n",
    "    doneLine = False\n",
    "    lmin = np.random.randint(30,50)\n",
    "    lineEnds = '.,;:? '\n",
    "    \n",
    "    i = 0\n",
    "    while not doneLine and i < 100:\n",
    "        i += 1\n",
    "        ngram = stin[-order:]   \n",
    "        try:\n",
    "            st = probs[ngram]\n",
    "        except KeyError:\n",
    "            if len(stin) < order:\n",
    "                stin = sstart\n",
    "            else:\n",
    "                stin = stin[0:-order]\n",
    "            continue\n",
    "        \n",
    "        ch = np.random.choice(list(st));\n",
    "        \n",
    "        \n",
    "        if len(stin) > lmin and ch in lineEnds: ch += '\\n'\n",
    "        elif len(stin) <= lmin and ch == '\\n':\n",
    "            stin = stin[0:-order]\n",
    "            ch = ''\n",
    "            \n",
    "        if '\\n' in ch: doneLine = True\n",
    "        stin += ch\n",
    "    \n",
    "    if not firstline: stin = stin[order:]\n",
    "    return stin.strip().capitalize() + '\\n'\n",
    "         "
   ]
  },
  {
   "cell_type": "code",
   "execution_count": 9,
   "metadata": {},
   "outputs": [
    {
     "data": {
      "text/plain": [
       "'\\n'"
      ]
     },
     "execution_count": 9,
     "metadata": {},
     "output_type": "execute_result"
    }
   ],
   "source": [
    "getLine('ully',False)"
   ]
  },
  {
   "cell_type": "code",
   "execution_count": 10,
   "metadata": {},
   "outputs": [
    {
     "name": "stdout",
     "output_type": "stream",
     "text": [
      "if th\n"
     ]
    }
   ],
   "source": [
    "beg = np.random.choice(Inits)\n",
    "print(beg)"
   ]
  },
  {
   "cell_type": "code",
   "execution_count": 11,
   "metadata": {},
   "outputs": [],
   "source": [
    "def getSonnet():\n",
    "    SonStart = np.random.choice(Inits)\n",
    "    nlines = 14\n",
    "    poem = getLine(SonStart,True)\n",
    "    tlines = 1\n",
    "    \n",
    "    while tlines < nlines:\n",
    "        nstart = poem[-order-1:-1]\n",
    "        line = getLine(nstart,False)\n",
    "        if len(line) > 20:\n",
    "            poem += line\n",
    "            tlines += 1\n",
    "    \n",
    "    return poem\n"
   ]
  },
  {
   "cell_type": "code",
   "execution_count": 12,
   "metadata": {},
   "outputs": [
    {
     "name": "stdout",
     "output_type": "stream",
     "text": [
      "As fashion, lusty day doth april's fire of\n",
      "View in the gentle grace with\n",
      "Thee, the rich is sweet seemly\n",
      "Raiments, love's pencil, beauty's delight\n",
      "Ed, have lives not the benefit of this\n",
      "Huge rondure, or soul which yet not that your\n",
      "Fairer whose table as a false her. if it were\n",
      "Be bettered such who form and in my braves\n",
      "Quick of your love, against thy\n",
      "Sweet birds, in dreaming on such clean pen need\n",
      "S must be hell of confessed are is write\n",
      "! look whom from thee. i grant having\n",
      ", but as for at thy self thy sake?\n",
      "Who art, thoughts, and most be? me first you\n",
      "\n"
     ]
    }
   ],
   "source": [
    "print(getSonnet())"
   ]
  },
  {
   "cell_type": "markdown",
   "metadata": {
    "heading_collapsed": true
   },
   "source": [
    "## Trial 3"
   ]
  },
  {
   "cell_type": "markdown",
   "metadata": {
    "hidden": true
   },
   "source": [
    "replaced \\n by ' '"
   ]
  },
  {
   "cell_type": "code",
   "execution_count": 97,
   "metadata": {
    "hidden": true
   },
   "outputs": [],
   "source": [
    "def getLine(ngram, firstline):\n",
    "    sstart = ngram\n",
    "    stin = ngram\n",
    "    doneLine = False\n",
    "    lmin = np.random.randint(30,50)\n",
    "    lineEnds = '.,;:? '\n",
    "    \n",
    "    i = 0\n",
    "    while not doneLine and i < 100:\n",
    "        i += 1\n",
    "        ngram = stin[-order:]   \n",
    "        try:\n",
    "            st = probs[ngram]\n",
    "        except KeyError:\n",
    "            if len(stin) < order:\n",
    "                stin = sstart\n",
    "            else:\n",
    "                stin = stin[0:-order]\n",
    "            continue\n",
    "        \n",
    "        ch = np.random.choice(list(st));\n",
    "        \n",
    "        \n",
    "        if len(stin) > lmin and ch in lineEnds:\n",
    "            ch += '\\n'   \n",
    "            doneLine = True\n",
    "        \n",
    "        stin += ch\n",
    "    \n",
    "    if not firstline: stin = stin[order:]\n",
    "    return stin.strip().capitalize() \n",
    "         "
   ]
  },
  {
   "cell_type": "code",
   "execution_count": 110,
   "metadata": {
    "hidden": true
   },
   "outputs": [
    {
     "data": {
      "text/plain": [
       "'When other, smell, beauteous niggarding:'"
      ]
     },
     "execution_count": 110,
     "metadata": {},
     "output_type": "execute_result"
    }
   ],
   "source": [
    "getLine(beg,True)"
   ]
  },
  {
   "cell_type": "code",
   "execution_count": 100,
   "metadata": {
    "hidden": true
   },
   "outputs": [
    {
     "name": "stdout",
     "output_type": "stream",
     "text": [
      "when \n"
     ]
    }
   ],
   "source": [
    "beg = np.random.choice(Inits)\n",
    "print(beg)"
   ]
  },
  {
   "cell_type": "code",
   "execution_count": 111,
   "metadata": {
    "hidden": true
   },
   "outputs": [],
   "source": [
    "def getSonnet():\n",
    "    SonStart = np.random.choice(Inits)\n",
    "    nlines = 14\n",
    "    nstart = SonStart\n",
    "    poem = getLine(nstart,True)\n",
    "    \n",
    "    for i in range(1,nlines):\n",
    "        nstart = poem[-order:]\n",
    "        line = getLine(nstart,False)\n",
    "        poem += '\\n' + line\n",
    "    \n",
    "    return poem\n"
   ]
  },
  {
   "cell_type": "code",
   "execution_count": 133,
   "metadata": {
    "hidden": true
   },
   "outputs": [
    {
     "name": "stdout",
     "output_type": "stream",
     "text": [
      "I never-fixed, but when she know\n",
      "But waking no old woe, and do witness, the\n",
      "Bitterness thing me, like a winter a\n",
      "Nd loaths' breast, not with winds\n",
      "To register, i do believe thy look, even\n",
      "First, 'tis thy love herd and sit,\n",
      "You to ruin happily for all, and water,\n",
      "When thee but out all you survey,\n",
      "For than enjoys it; but show much enrich\n",
      "Eyes, her fading mourn becoming\n",
      "Ill. yet self-doing made when i am not\n",
      "Special instancy and ransoms\n",
      "Fits! but one twain, and yet beauty\n",
      "'s forsworn to weight seen, with\n"
     ]
    }
   ],
   "source": [
    "print(getSonnet())"
   ]
  },
  {
   "cell_type": "markdown",
   "metadata": {
    "heading_collapsed": true
   },
   "source": [
    "# Testing Area"
   ]
  },
  {
   "cell_type": "code",
   "execution_count": 90,
   "metadata": {
    "hidden": true
   },
   "outputs": [],
   "source": [
    "line = 'hello12345'"
   ]
  },
  {
   "cell_type": "code",
   "execution_count": 103,
   "metadata": {
    "hidden": true
   },
   "outputs": [
    {
     "data": {
      "text/plain": [
       "'hello something end'"
      ]
     },
     "execution_count": 103,
     "metadata": {},
     "output_type": "execute_result"
    }
   ],
   "source": [
    "re.sub('\\(|\\)','',line)"
   ]
  },
  {
   "cell_type": "code",
   "execution_count": 101,
   "metadata": {
    "hidden": true
   },
   "outputs": [
    {
     "data": {
      "text/plain": [
       "'()'"
      ]
     },
     "execution_count": 101,
     "metadata": {},
     "output_type": "execute_result"
    }
   ],
   "source": [
    "skipChar"
   ]
  },
  {
   "cell_type": "code",
   "execution_count": 91,
   "metadata": {
    "hidden": true
   },
   "outputs": [
    {
     "data": {
      "text/plain": [
       "'12345'"
      ]
     },
     "execution_count": 91,
     "metadata": {},
     "output_type": "execute_result"
    }
   ],
   "source": [
    "line[-5:]"
   ]
  },
  {
   "cell_type": "code",
   "execution_count": 97,
   "metadata": {
    "hidden": true
   },
   "outputs": [
    {
     "data": {
      "text/plain": [
       "False"
      ]
     },
     "execution_count": 97,
     "metadata": {},
     "output_type": "execute_result"
    }
   ],
   "source": [
    "not True"
   ]
  },
  {
   "cell_type": "code",
   "execution_count": 8,
   "metadata": {
    "hidden": true
   },
   "outputs": [
    {
     "data": {
      "text/plain": [
       "18"
      ]
     },
     "execution_count": 8,
     "metadata": {},
     "output_type": "execute_result"
    }
   ],
   "source": [
    "np.random.randint(10,20)"
   ]
  },
  {
   "cell_type": "code",
   "execution_count": 74,
   "metadata": {
    "hidden": true
   },
   "outputs": [],
   "source": [
    "ch = 'kjhgjkh.'"
   ]
  },
  {
   "cell_type": "code",
   "execution_count": 75,
   "metadata": {
    "hidden": true
   },
   "outputs": [],
   "source": [
    "ch = ch + ''"
   ]
  },
  {
   "cell_type": "code",
   "execution_count": 76,
   "metadata": {
    "hidden": true
   },
   "outputs": [
    {
     "data": {
      "text/plain": [
       "8"
      ]
     },
     "execution_count": 76,
     "metadata": {},
     "output_type": "execute_result"
    }
   ],
   "source": [
    "len(ch)"
   ]
  },
  {
   "cell_type": "code",
   "execution_count": 80,
   "metadata": {
    "hidden": true
   },
   "outputs": [
    {
     "data": {
      "text/plain": [
       "'kjhgjkh.'"
      ]
     },
     "execution_count": 80,
     "metadata": {},
     "output_type": "execute_result"
    }
   ],
   "source": [
    "ch[-9:]"
   ]
  },
  {
   "cell_type": "code",
   "execution_count": 250,
   "metadata": {
    "hidden": true
   },
   "outputs": [
    {
     "data": {
      "text/plain": [
       "'Lory fight, that i am not the love-god lying.:\\n'"
      ]
     },
     "execution_count": 250,
     "metadata": {},
     "output_type": "execute_result"
    }
   ],
   "source": [
    "'Lory fight, that i am not the love-god lying.:   \\n'.strip() + '\\n'"
   ]
  },
  {
   "cell_type": "code",
   "execution_count": 49,
   "metadata": {
    "hidden": true
   },
   "outputs": [
    {
     "data": {
      "text/plain": [
       "{'from ': 'fhthtyhtttyftftftswmtmmlttltthwttttwtthmmtttyvtthhttetytmtthmmyylmammmtsttmmhhtwtl',\n",
       " 'rom f': 'aaaa',\n",
       " 'om fa': 'iirr',\n",
       " 'm fai': 'rr',\n",
       " ' fair': 'e  l,e        ,     ,e  ,   ,   , ,,,e e,i ee   :, :e',\n",
       " 'faire': 'srrsrsss',\n",
       " 'aires': 'ttttt',\n",
       " 'irest': '     ',\n",
       " 'rest ': 'cifosdfbwlaiv',\n",
       " 'est c': 'rl',\n",
       " 'st cr': 'eee',\n",
       " 't cre': 'aaaa',\n",
       " ' crea': 'tttttttt',\n",
       " 'creat': 'ueeiuiiu',\n",
       " 'reatu': 'rrr',\n",
       " 'eatur': 'eeeeee',\n",
       " 'ature': \"s'  l'' d'   '  ,.  's\",\n",
       " 'tures': '  ',\n",
       " 'ures ': 'wnwobf',\n",
       " 'res w': 'ea',\n",
       " 'es we': ' rar l',\n",
       " 's we ': 'dof',\n",
       " ' we d': 'e',\n",
       " 'we de': 's',\n",
       " 'e des': 'ieipcp',\n",
       " ' desi': 'rrrrrrrrrrrrrr',\n",
       " 'desir': 'eeieeeeeeeeeee',\n",
       " 'esire': ' :,  ? d,  d,',\n",
       " 'sire ': 'ikomti',\n",
       " 'ire i': 'ns',\n",
       " 're in': 'c   i  ',\n",
       " 'e inc': 'r',\n",
       " ' incr': 'eeeee',\n",
       " 'incre': 'aaaaa',\n",
       " 'ncrea': 'sssss',\n",
       " 'creas': 'eeeeie',\n",
       " 'rease': ',,,,,',\n",
       " 'ease,': '          ',\n",
       " 'ase, ': 'thwawcabwcdf',\n",
       " 'se, t': 'hhhheohihoh',\n",
       " 'e, th': 'aeoeaeeaayaeaeeyaaieiaaoioreeyoeuearaeaayaeeeeooeaaeeeeyaoyeayaeeeeeareeeaaeeyeoyeaoaaoouoaaeye',\n",
       " ', tha': 'ttttttnttttttttttntttttttttttttntnttttttnnttttttttttttttttnttttntttttttntttnnttttttttttttttt',\n",
       " ' that': \"       '                                                                                                                                     ,                               ,                                                                                                                                                \",\n",
       " 'that ': \"tafwuupwtttbott'bibwfcttybigtmltfmhlpbdtmhiligmamthdcthbwiswdhtibpccbdttltstlisrtpmtttatstcrbwsslkmssswywigmywriwgtkdfhtwitsttdgittfiwiyywtsowwfwitetwwwybysyptwyaidsaerttftotlmfiihdffttetilhstwdltwhobimeiitmbiidmiymmawymiswliiitwsbysoyilipriiwhihebmnhlfmtifugthmdihobhpvoiinstasssittilsmhwwwtmlsltefpfwwhcbiiiicbiihigvfi\",\n",
       " 'hat t': 'hhhhhhehhiohhhhhhhhohoiiiihhiohhhhihhaohohhoeohhrhhhhhhhhhhhhoh',\n",
       " 'at th': 'eeooooooieeeraiooyooeoeeooeyoooeoeeeoeeeyeeeyeeooey',\n",
       " 't the': 'r ir   em y  n  n   n    n             e e  s e     nn nrn      e  nnnyy  yiyeyee  ',\n",
       " ' ther': 'eeeeeeeeeeeeeeeeeeeeeeeeeeeeeeeeeeeeeeeeee',\n",
       " 'there': \"b,b fi  ff ff  offff  fd,if f , ffddif ,ffd'  \",\n",
       " 'hereb': 'yy',\n",
       " 'ereby': ' ,',\n",
       " 'reby ': 'b',\n",
       " 'eby b': 'e',\n",
       " 'by be': 'a',\n",
       " 'y bea': 'uuuuuruuuuuuuuuu',\n",
       " ' beau': 'tttttttttttttttttttttttttttttttttttttttttttttttttttttttttttttttttttttttttttttttttttt',\n",
       " 'beaut': 'yyyyyyeyyyyyyyeyyyiyyyyyyyyeeyyeyyyyyyeeyyiyyyyyyyyyyyiyyeyyyyyyyyeyyyiyyyyyyyyyiyyy',\n",
       " 'eauty': \"'' ' '  ' ' ' ,   ' '  ',,,     ' ,     '        '   '  ' ' ,''       \",\n",
       " \"auty'\": 'ssssssssssssssssss',\n",
       " \"uty's\": '                  ',\n",
       " \"ty's \": 'rfuletwdpfbdvtsbns',\n",
       " \"y's r\": 'o',\n",
       " \"'s ro\": 's',\n",
       " 's ros': 'ee',\n",
       " ' rose': ' s sss ,,s,ss',\n",
       " 'rose ': 'mli',\n",
       " 'ose m': 'iio',\n",
       " 'se mi': 'gsl',\n",
       " 'e mig': 'hhhhh',\n",
       " ' migh': 'ttttttttttttttttttttttttttttt',\n",
       " 'might': '   i:s . ,,  . s?           ,',\n",
       " 'ight ': 'nbeludtapmbmtabdomihtdagwauiispoodsbsgwattrioiibohttfgttidwtsfiw',\n",
       " 'ght n': 'e',\n",
       " 'ht ne': 'v',\n",
       " 't nev': 'ee',\n",
       " ' neve': 'rrrrrrrrrrrrrrrr',\n",
       " 'never': ' -           !  ',\n",
       " 'ever ': 'dlsiptfcytsdicsksbmswlcbshsl',\n",
       " 'ver d': 'iw',\n",
       " 'er di': 'e',\n",
       " 'r die': ',',\n",
       " ' die,': '     ',\n",
       " 'die, ': 'btitb',\n",
       " 'ie, b': 'uu',\n",
       " 'e, bu': 'tttttttttttttttttttt',\n",
       " ', but': '                                                                 ',\n",
       " ' but ': \"atidftwshbtlunfasawtinstwtfwattddittsoowtodtmyyhmwathntttsloyffyttltfwwsthtwalelmtnwsahctwbwitwhssiidhsffsbitpwlymberbsttbdtafmnnidntsttsomwwish'mwiblwlrtwtafii\",\n",
       " 'but a': 's sshp lt',\n",
       " 'ut as': '   ',\n",
       " 't as ': 'ttttatttffottmgb',\n",
       " ' as t': 'hhhhrhhhehhhhhhhhhohhhhhhoohhyhhhheh',\n",
       " 'as th': 'eyoeooieoiiuyeeeeeeoeeioyooooyoo',\n",
       " 's the': '   e  yer i i  r ye    i     ei yi   eee    e fe m   e  r    ',\n",
       " ' the ': 'rwgwwgtftwttlbltvwogsdetpwwwwwutwctbvhbwssssctlbadelekflwmosspepfpshmspbrdbboodhselslswdgtabthmmbfrwcrwdlsttppbtjdcldfpfocfdhcdoppgtklswmbwbswrwfctwrcsyoorcprgwleejsosbvhwcbssoswwpmfprwswtrhksfwwmgdrwtvebrsfogsaswhwwcstwgadvebdpcwgpfwtsswdlstpohpwwebmdtsmmbppwcceiwsrovrwlftlssbsfbshfbsspftwpvwslsldrplresossnasfscfbpwlmsdbvdfttvbgdwwhmrmmsdcmfclscprmrsewlcildhjlppcbfcoofwtwtwhsbgfpmgeesswstnbwbjwwbwmltmbwscdiptwsmldvmttbhbfg',\n",
       " 'the r': 'ieeaioooaiiaeeoouee',\n",
       " 'he ri': 'pccg',\n",
       " 'e rip': 'e',\n",
       " ' ripe': 'r r',\n",
       " 'riper': '  ',\n",
       " 'iper ': 'sd',\n",
       " 'per s': 'h',\n",
       " 'er sh': 'oaaa',\n",
       " 'r sho': 'uwuw',\n",
       " ' shou': 'llllllllllllllllllllllllllllllllllllllllllllllllll',\n",
       " 'shoul': 'dddddddddddddddddddddddddddddddddddddddddddddddddd',\n",
       " 'hould': '  ss  ss                     s                   s',\n",
       " 'ould ': 'bfdbcmptbbtwsmledtinbbbiibiiwskbihafphbmltldwygedenhmsnhssnaytbonltcmdghcft',\n",
       " 'uld b': 'yeeeeealeey',\n",
       " 'ld by': '  ',\n",
       " 'd by ': 'taanetatasttbacithh',\n",
       " ' by t': 'ihhohhhhhhhhihhhhhhhhhhhhhh',\n",
       " 'by ti': 'mm',\n",
       " 'y tim': 'eeee',\n",
       " ' time': \"  . ssss, '  ?' ,   :'',ss  '      .s s   s' '  '',  '- ,  ' ,,, , ,'' ,,'' ,' \",\n",
       " 'time ': 'dtlmdfttdtbtwaamicwdtattddlwdoadrshwhaeyod',\n",
       " 'ime d': 'eeeoooeoi',\n",
       " 'me de': 'cnbccab',\n",
       " 'e dec': 'elaaaer',\n",
       " ' dece': 'aiaaiiaimai',\n",
       " 'decea': 'sssss',\n",
       " 'eceas': 'eeeee',\n",
       " 'cease': ',,,dd:',\n",
       " 'se, h': 'io',\n",
       " 'e, hi': 's',\n",
       " ', his': '  ',\n",
       " ' his ': 'tmbsbnsmbglptgscvffposwlflcvaturhsfsisfggscbbysbsspsclrgcbydwtmosswsrgscladelptrtgscfpfqobgphbbpfgspptblsh',\n",
       " 'his t': 'ehohioihhhhrirhhhhr',\n",
       " 'is te': 'n',\n",
       " 's ten': 'ddd',\n",
       " ' tend': 'eeee?,e,eee',\n",
       " 'tende': 'rrrrrrrr',\n",
       " 'ender': \"   's  e,   \",\n",
       " 'nder ': 'hcenetodtoamttiatf',\n",
       " 'der h': 'ea',\n",
       " 'er he': 'i,aa',\n",
       " 'r hei': 'r',\n",
       " ' heir': ' .,',\n",
       " 'heir ': 'mssybatasfpgpirsrrvmvsseptebpfgctsbswbghhfedhlpdaposworbgwsidpsr',\n",
       " 'eir m': 'ia',\n",
       " 'ir mi': 'g',\n",
       " 'r mig': 'hhhh',\n",
       " 'ght b': 'eueyuyee',\n",
       " 'ht be': 'aa  ',\n",
       " 't bea': 'rruuuuuurruuuruuu',\n",
       " ' bear': \" :'d. is s e ,, is  i\",\n",
       " 'bear ': 'hygtaattt',\n",
       " 'ear h': 'iaeeeee',\n",
       " 'ar hi': 's',\n",
       " 'r his': '      ',\n",
       " 'his m': 'eiaoyiioa',\n",
       " 'is me': 'mr',\n",
       " 's mem': 'o',\n",
       " ' memo': 'rrrrrrrrr',\n",
       " 'memor': 'yyyyiyyyy',\n",
       " 'emory': ':.. ,  ,',\n",
       " 'mory:': ' ',\n",
       " 'ory: ': 'ba',\n",
       " 'ry: b': 'u',\n",
       " 'y: bu': 'ttt',\n",
       " ': but': '                 ',\n",
       " 'but t': 'hhhhrhhhhhhhhhhhoehihhhhhhhhhhhho',\n",
       " 'ut th': 'oeaiyeaeiioyiaeeoieaooaeeaeaeieoeo',\n",
       " 't tho': 'uuuuuuuuuuuuusuuuuusuuusuuuuuuuuuuuusuuuuuuuuuuuuuuuuuuuuusuuuuuuuuuusuuuuuuuuuuu',\n",
       " ' thou': '                g     ,              g          g         g   sg gg  ggg   gg  g  gg         gg                  g ggg g gg g,  g      g, gggg  g gggg      g        g       g   gggggg     g  g     g     ggg                gg   gg  ggggg       g,    s             g   g   g gs              ggg       g    ',\n",
       " 'thou ': 'ctcafvndatlsauolbsasagmtrsscinbwanassgdbmfssawaowgtfwtfaagmagaaspbrhwtbdttadptthmhmutsaaamahdkwdainbaamwshafdsddabphamsspmrdhtbswdatwatakggsaidcdwwmacmamtmlwbashmftptnbaimmasdmsmgmgaakabhcwwwawuhhwblbtflwabtslddbacmtpuufkotllttsbka',\n",
       " 'hou c': 'oooaaaa',\n",
       " 'ou co': 'nun',\n",
       " 'u con': 'ts',\n",
       " ' cont': 'rereerrerreaareire',\n",
       " 'contr': 'aoaoaooo',\n",
       " 'ontra': 'ccr',\n",
       " 'ntrac': 'tt',\n",
       " 'tract': 'e ei',\n",
       " 'racte': 'ddrrrr',\n",
       " 'acted': '  ',\n",
       " 'cted ': 'tfnc',\n",
       " 'ted t': 'oioihoh',\n",
       " 'ed to': '         u  m      ',\n",
       " 'd to ': 'ttabwftbttthsbdtlcmststmhbtwfhmmbtttdase',\n",
       " ' to t': 'hhhhhhheihhhhohhhhhhhhhhhhhhhrhhhhhihhhihhhhahhhhehhrhehhhrhhhhhhiriihhrhhohhhhhhe',\n",
       " 'to th': \"iyeoeeyeeeeeeeyaieeeeeeeeraeeeieeeeyeeeeeeeeeeeeeeyeeaee'iiieyyyyeei\",\n",
       " 'o thi': 'nssnsssss',\n",
       " ' thin': 'eeeeeeeeeeeeeegeggeegeeekggkgeeeeegkeglkkgkekgeeekeeggggggggekggkkkkkeeekgkgkkkeeeeeegkegg',\n",
       " 'thine': '   .       ,,          ,  s   ,. ,  ,?    ,  s',\n",
       " 'hine ': 'oooaithaeoeainefiaosbemboteeeaeeeoee',\n",
       " 'ine o': 'wwwrwwwwwwnwwwwwwwwww',\n",
       " 'ne ow': 'nnnnnnnnnnnnnnnnnnn',\n",
       " 'e own': '             ,  e   ',\n",
       " ' own ': 'bbdsshhllspswdtwsdwwgfptvdsh',\n",
       " 'own b': 'ru',\n",
       " 'wn br': 'i',\n",
       " 'n bri': 'gn',\n",
       " ' brig': 'hhhhhhhhhhhh',\n",
       " 'brigh': 'tttttttttttt',\n",
       " 'right': ' s  ,,   ,, .  ,l ,    ,?n',\n",
       " 'ght e': 'y',\n",
       " 'ht ey': 'e',\n",
       " 't eye': 'sssss',\n",
       " ' eyes': \",, ,  ,   :    ,      ., ,  , ,        , '   ,    ? .\",\n",
       " 'eyes,': '           ',\n",
       " 'yes, ': 'fwhaiettttf',\n",
       " 'es, f': 'eo',\n",
       " 's, fe': 'e',\n",
       " ', fee': 'ddd',\n",
       " ' feed': \"'isi si\",\n",
       " \"feed'\": 's',\n",
       " \"eed's\": 'tt',\n",
       " \"ed'st\": '   ',\n",
       " \"d'st \": 'ttftoct',\n",
       " \"'st t\": 'hhhhhhhhohhhh',\n",
       " 'st th': 'yyooooooyyoieoeoayooiaaaeaeooeeeeeeieoyyeiooooooeoaeayooeooooooooooee',\n",
       " 't thy': '                          ',\n",
       " ' thy ': \"lsfscbbyblbbghmgsbsssussssnswssctpsbseehcwwllbhhbsmssssdbsltasssaahngwpagssswsssrhbybsbbsmsffspfoipsplpffehwwisjlsdomdfosdwppslbdpmgdmbmbsaglpbcswtewgsogsprrwwslwslhrllhccfthlbssbsdsnfgsgsshhbmfplpanomdfbsptrdprrcshcplsshfflffbdhfhpccswbwswlsb'slslutmptpdhpbhwofcbssfssdmdwusnpasbdltc\",\n",
       " 'thy l': 'iuooooooooooooaoiaooo',\n",
       " 'hy li': 'gp',\n",
       " 'y lig': 'h',\n",
       " ' ligh': 'ttttttt',\n",
       " 'light': \"' ss .,? , .,  , :?.,ee\",\n",
       " \"ight'\": 's',\n",
       " \"ght's\": ' ',\n",
       " \"ht's \": 'f',\n",
       " \"t's f\": 'loa',\n",
       " \"'s fl\": 'ao',\n",
       " 's fla': 'mtt',\n",
       " ' flam': 'eee',\n",
       " 'flame': '   ',\n",
       " 'lame ': 'wbtymts',\n",
       " 'ame w': 'ih',\n",
       " 'me wi': 'ttttlttt',\n",
       " 'e wit': 'hhhhh.hhhhhhhhhshhhhhhhhhhhhh hshh',\n",
       " ' with': ' ii             o                                             o  o                i i       o               o      o      oi                         i  i ii       e                         iio         a',\n",
       " 'with ': 'stttgfbwblwspmwwpdtmvytttnsmthseahtbettfttfmfwkoatdttsghutacmpmtstmtstmcsmmtttmamsfamatbotbtllstaaihhovcmmtttyfttgimtlimbrshythmmdttfmyyhthuelnfhsmsaaattgfdpwchmttpcltmttmhaetwtttpio',\n",
       " 'ith s': 'ewhuopwiltoheo',\n",
       " 'th se': 'leeac',\n",
       " 'h sel': 'f',\n",
       " ' self': \"-  -    -  -      ,  ',-  ,  ,,              --  -,-               ,          ,  -  ,   \",\n",
       " 'self-': 'slkwsdllle',\n",
       " 'elf-s': 'ua',\n",
       " 'lf-su': 'b',\n",
       " 'f-sub': 's',\n",
       " '-subs': 't',\n",
       " 'subst': 'aaaaa',\n",
       " 'ubsta': 'nnnnn',\n",
       " 'bstan': 'tcccc',\n",
       " 'stant': 'i      ',\n",
       " 'tanti': 'a',\n",
       " 'antia': 'l',\n",
       " 'ntial': ' ',\n",
       " 'tial ': 'ffl',\n",
       " 'ial f': 'ua',\n",
       " 'al fu': 'e',\n",
       " 'l fue': 'l',\n",
       " ' fuel': ',',\n",
       " 'fuel,': ' ',\n",
       " 'uel, ': 'mnds',\n",
       " 'el, m': 'a',\n",
       " 'l, ma': 'k',\n",
       " ', mak': 'ieeieiiieii',\n",
       " ' maki': 'nnnnnnnnnnnn',\n",
       " 'makin': 'gggggggggggg',\n",
       " 'aking': '          ,.       ',\n",
       " 'king ': 'atabohoanooowhitnnlbdowatt',\n",
       " 'ing a': ' s gtrwggg  lultrdnt ',\n",
       " 'ng a ': 'fcbtnb',\n",
       " 'g a f': 'a',\n",
       " ' a fa': 'mtclrc',\n",
       " 'a fam': 'i',\n",
       " ' fami': 'nsl',\n",
       " 'famin': 'e',\n",
       " 'amine': ' ',\n",
       " 'mine ': 'wsbiooeemeioooweeeeeeeeeooeoeooooieooaeueeeereteeeeci',\n",
       " 'ine w': 'hihai',\n",
       " 'ne wh': 'ei',\n",
       " 'e whe': 'rnrrnrrrrnnrrnnrnnnrn',\n",
       " ' wher': 'eeeeeeeeeeeeeeeeeeeeeeeeeeeeeeeeeeeeeeeeeeeeeeeeeeeeeeeeeeee',\n",
       " 'where': '     :o fui -        v  o    w,o f  o    .i ii !  .. itt  tff;  o ',\n",
       " 'here ': 'aaaielwwyitirbiwtwtthtwttyyybiamltbclyicbtaabtawmiamiicf',\n",
       " 'ere a': 'bllnlrpnl',\n",
       " 're ab': 'u',\n",
       " 'e abu': 'ns',\n",
       " ' abun': 'ddddd',\n",
       " 'abund': 'aaaaa',\n",
       " 'bunda': 'nnnnn',\n",
       " 'undan': 'ccctc',\n",
       " 'ndanc': 'eeee',\n",
       " 'dance': '    ',\n",
       " 'ance ': 'lwstwogaoslbaoiaafstatsat',\n",
       " 'nce l': 'ii',\n",
       " 'ce li': 'ee',\n",
       " 'e lie': 'ss.ss ',\n",
       " ' lies': ',,,, .  ,, ,',\n",
       " 'lies,': '       ',\n",
       " 'ies, ': 'twswawytaw',\n",
       " 'es, t': 'hhohhhhhhhh',\n",
       " 's, th': \"yaea'eaeaaoaaoeaoeeaaaaaaaeye\",\n",
       " ', thy': '                           ',\n",
       " 'thy s': 'eweeewueeeeeeeehowhwhiieeieoeethhiepahhweeiwewhiptwoucwwtwootetaewi',\n",
       " 'hy se': 'llllllllllllnllllllllrr',\n",
       " 'y sel': 'ffffffffffffffffffffffffffffffffffffffffffffffffff',\n",
       " 'self ': 'tttatdtwoisatafhaiisfsaacatdbdrdauamtmiticwatdbtiiwdiadbartsgaittaiswwrp',\n",
       " 'elf t': 'hohhohhohhhohh',\n",
       " 'lf th': 'yyyoeaaoayo',\n",
       " 'f thy': '       s                      ',\n",
       " 'thy f': 'oaaaroaaauaiiaaaao',\n",
       " 'hy fo': 'eru',\n",
       " 'y foe': ',s',\n",
       " ' foe,': ' ',\n",
       " 'foe, ': 't',\n",
       " 'oe, t': 'oh',\n",
       " 'e, to': '         o      ',\n",
       " ', to ': 'tebshfgwsldtsethwglbmytsfpdslstdlltmetsltsmmmltwkcbbtkhstfmmss',\n",
       " 'o thy': '              ',\n",
       " 'hy sw': 'eeeeeeeeeeee',\n",
       " 'y swe': 'eeeeeeeeeeeeee',\n",
       " ' swee': 'ttttttttttttttttttttttttttttttttttttttttttttttttttttttttttttttttttttttt',\n",
       " 'sweet': \"  . ssl s     s   e    l      e  ee  -     n ,e s ,  , s     n;   '   , \",\n",
       " 'weet ': 'ssshsifsbrlsthalfuoordlltblglblvasttfhbbfssbfwfts',\n",
       " 'eet s': 'eeoekimeee',\n",
       " 'et se': 'llmelll',\n",
       " 't sel': 'ffffffffffffff',\n",
       " 'lf to': 'o   ',\n",
       " 'f too': ' ',\n",
       " ' too ': 'cfshmenbspdmgmmy',\n",
       " 'too c': 'r',\n",
       " 'oo cr': 'u',\n",
       " 'o cru': 'ee',\n",
       " ' crue': 'llllllll',\n",
       " 'cruel': ':  ,; ,,',\n",
       " 'ruel:': ' ',\n",
       " 'uel: ': 't',\n",
       " 'el: t': 'h',\n",
       " 'l: th': 'or',\n",
       " ': tho': 'uu',\n",
       " 'hou t': 'hhhhhahhehhahrhhoohuhhh',\n",
       " 'ou th': 'araeeyeeyyoyyiaii',\n",
       " 'u tha': 'ttt',\n",
       " 'hat a': 'rcnm ubf  l ',\n",
       " 'at ar': 't',\n",
       " 't art': ' ',\n",
       " ' art ': 'notmsbsambtafgplnomwbaaetfattmattccat',\n",
       " 'art n': 'oo',\n",
       " 'rt no': 'wtt',\n",
       " 't now': '      ',\n",
       " ' now ': 'titcssaicumhwhfnbpcmwstbcwtaibiittari',\n",
       " 'now t': 'hhhhorhh',\n",
       " 'ow th': 'eoyeaeyyyaiay',\n",
       " 'w the': ' ee',\n",
       " 'the w': 'ooooiooooooaihooarihaooiaeaarooioeooroooooaiiooiioohoioroo',\n",
       " 'he wo': 'rrrrrrrrrrruurrrrrrrrrmrrrrorrrurr',\n",
       " 'e wor': 'llllkmllllllltltklllllltlsllsttllltlslldslt',\n",
       " ' worl': 'ddddddddddddddddddddddddddddddddd',\n",
       " 'world': \"',',          - '        ,,  ''  \",\n",
       " \"orld'\": 'sssss',\n",
       " \"rld's\": '     ',\n",
       " \"ld's \": 'fdecf',\n",
       " \"d's f\": 'ra',\n",
       " \"'s fr\": 'eoe',\n",
       " 's fre': 'sss',\n",
       " ' fres': 'hhhhhhhh',\n",
       " 'fresh': '     e , ',\n",
       " 'resh ': 'orbnlwc',\n",
       " 'esh o': 'r',\n",
       " 'sh or': 'n',\n",
       " 'h orn': 'a',\n",
       " ' orna': 'mmmmmm',\n",
       " 'ornam': 'eeeeee',\n",
       " 'rname': 'nnnnnn',\n",
       " 'namen': 'tttttt',\n",
       " 'ament': ',  , s',\n",
       " 'ment,': '     ',\n",
       " 'ent, ': 'aaytfihsftwdaniwt',\n",
       " 'nt, a': 'nnnnn',\n",
       " 't, an': 'dddddddddddddddddddddddddddddddddddddd',\n",
       " ', and': '                                                                                                                                                                                                                                                                                                                      ',\n",
       " ' and ': \"ottdtmststbtclbmhlchskktictrmsssbbdnybywcbbdcwafmysiysimsoetmbsdawfbtemsattidlhptpiaapkhfnednmtlcttwwmhstaaotstpfmctrsesle'htbhwottyttwctyflibidnlwpshsbtmhetiitempesttmgsytyfypuslbaddttptdnyitaaffcofwathbtltnpgmrsafscwlspdthttmhlsbttfhabbstkwylootmfuhgbadmphfioitttdtttbspltlfsppiiilihdohehhmlyfwwthodlagflfyuhtliybtsgamcbtttsstdymnmpettitblftpdsttiotmswmawipipttittmtdcicwugeovsbfhrgfisyttihtrtwttfmttwhbtstniipwiymtttltsammtyaihsmy''siimwmltsetwasistrwivttsmpmdwwtssldifmtwiswsfnatfhgtsht\",\n",
       " 'and o': \"nfbu'lfftwun\",\n",
       " 'nd on': 'l   ',\n",
       " 'd onl': 'y',\n",
       " ' only': '      ',\n",
       " 'only ': 'hcilmm',\n",
       " 'nly h': 'ei',\n",
       " 'ly he': 'r a',\n",
       " 'y her': 'as',\n",
       " ' hera': 'l',\n",
       " 'heral': 'd',\n",
       " 'erald': ' ',\n",
       " 'rald ': 't',\n",
       " 'ald t': 'o',\n",
       " 'ld to': '   u',\n",
       " 'o the': '  eme ree  eneneee e   m  i e  en s e e  e e      y e  ',\n",
       " 'the g': 'arrreiorlrurre',\n",
       " 'he ga': 'uv',\n",
       " 'e gau': 'd',\n",
       " ' gaud': 'y',\n",
       " 'gaudy': ' ',\n",
       " 'audy ': 's',\n",
       " 'udy s': 'p',\n",
       " 'dy sp': 'rue',\n",
       " 'y spr': 'i',\n",
       " ' spri': 'nnnnnn',\n",
       " 'sprin': 'gggggg',\n",
       " 'pring': ',,:,,s',\n",
       " 'ring,': '        ',\n",
       " 'ing, ': \"wwapthwhaoaamaaaaoscbt'witwalabaaaboaaooi\",\n",
       " 'ng, w': 'ihhhh',\n",
       " 'g, wi': 't',\n",
       " ', wit': 'hhhhhhhhhhhhhhhhhhhhh',\n",
       " 'withi': 'nnnnnnnnnnn',\n",
       " 'ithin': '       ,   ',\n",
       " 'thin ': 'ttttthtmab',\n",
       " 'hin t': 'hhhhhh',\n",
       " 'in th': 'iyiyeeeyeeaieeyieyaeeyeeeeiyyeeeeeeaeeeioeeeeieiyeeeeaeeeeeeeeeeeeieiayyeeeeeerieeiieayeeeeeyyyeieyeyeiaieyeieeyeye',\n",
       " 'n thi': 'nnnnssssnssssssnsnssnsnnn',\n",
       " 'wn bu': 'd',\n",
       " 'n bud': ' ',\n",
       " ' bud ': 'b',\n",
       " 'bud b': 'u',\n",
       " 'ud bu': 'r',\n",
       " 'd bur': 'int',\n",
       " ' buri': 'eeeeee',\n",
       " 'burie': 'sddddd',\n",
       " 'uries': 't :',\n",
       " 'riest': ' ',\n",
       " 'iest ': 'tu',\n",
       " 'est t': 'hhhhhhohh',\n",
       " 'thy c': 'ohoohhrooorho',\n",
       " 'hy co': 'numnnmn',\n",
       " 'y con': 'ttftttcs',\n",
       " 'conte': 'nnnnnnnnnn',\n",
       " 'onten': 'ttttdttttt',\n",
       " 'ntent': ',eeses,,;e',\n",
       " 'tent,': '   ',\n",
       " 'and t': 'ehhehhohhhhhhhrhhhhhhrhhhhhhohhhhihhiehharhhhhhohohhhhhoohohohhrrrhhohohhhohhhhhhahhiohhrhhohhhahohh',\n",
       " 'nd te': 'nln',\n",
       " 'd ten': 'du',\n",
       " 'der c': 'h',\n",
       " 'er ch': 'uie',\n",
       " 'r chu': 'r',\n",
       " ' chur': 'lll',\n",
       " 'churl': '  s',\n",
       " 'hurl ': 'md',\n",
       " 'url m': 'a',\n",
       " 'rl ma': 'k',\n",
       " 'l mak': \"'i\",\n",
       " \" mak'\": 'ss',\n",
       " \"mak's\": 'tt',\n",
       " \"ak'st\": '  ',\n",
       " \"k'st \": 'wnf',\n",
       " \"'st w\": 'ai',\n",
       " 'st wa': 'sks',\n",
       " 't was': 't.     ',\n",
       " ' wast': 'eeeeeeeeeeee',\n",
       " 'waste': '  sf:f, sd  ',\n",
       " 'aste ': 'ihmombaool',\n",
       " 'ste i': 'n',\n",
       " 'te in': ' ',\n",
       " 'e in ': 'ntmttirlmftmswtttmtstttmomttttttttsgtlyttetldsm',\n",
       " ' in n': 'io',\n",
       " 'in ni': 'g',\n",
       " 'n nig': 'gg',\n",
       " ' nigg': 'aaa',\n",
       " 'nigga': 'rrr',\n",
       " 'iggar': 'ddd',\n",
       " 'ggard': 'i  ',\n",
       " 'gardi': 'n',\n",
       " 'ardin': 'g',\n",
       " 'rding': ':',\n",
       " 'ding:': ' ',\n",
       " 'ing: ': 'pwgafmtfb',\n",
       " 'ng: p': 'i',\n",
       " 'g: pi': 't',\n",
       " ': pit': 'yy',\n",
       " ' pity': '     i -  ',\n",
       " 'pity ': 'tmmidlim',\n",
       " 'ity t': 'hh',\n",
       " 'ty th': 'eaao',\n",
       " 'y the': '      s  yi   imieny   ',\n",
       " 'orld,': '    ',\n",
       " 'rld, ': 'ouda',\n",
       " 'ld, o': 'r',\n",
       " 'd, or': '       ',\n",
       " ', or ': 'etetessnswwaamhcyawwvswdvnfamgabymtctstndbfliiim',\n",
       " ' or e': 'llvly',\n",
       " 'or el': 'sss',\n",
       " 'r els': 'eee',\n",
       " ' else': '   w  ww',\n",
       " 'else ': 'tromt',\n",
       " 'lse t': 'hoo',\n",
       " 'se th': 'iaeaoeeoeeeaeeaeareeeaee',\n",
       " 'e thi': 'snsnnnessnsnnnnnssnnnn',\n",
       " ' this': '            ,         ,,   ,         ,       ,    ,  ,,   ,                           ,   ,             ',\n",
       " 'this ': 'gfwttfcihibtpghcwmlghdsswsmcttmipwscstrmptvlvtlwblwsrfwsaaltatcompswfabmgisipthsifisetpbpahbb',\n",
       " 'his g': 'looirliarrueu',\n",
       " 'is gl': 'uo',\n",
       " 's glu': 't',\n",
       " ' glut': 'tt',\n",
       " 'glutt': 'oo',\n",
       " 'lutto': 'nn',\n",
       " 'utton': ' i',\n",
       " 'tton ': 'b',\n",
       " 'ton b': 'eu',\n",
       " 'on be': ', a t',\n",
       " 'n be,': ' ',\n",
       " ' be, ': 'tdtoytrialft',\n",
       " 'be, t': 'oohho',\n",
       " ' to e': 'aaintvvtann',\n",
       " 'to ea': 'tcc',\n",
       " 'o eat': ' ',\n",
       " ' eat ': 'thu',\n",
       " 'eat t': 'h',\n",
       " \"d's d\": 'u',\n",
       " \"'s du\": 'ee',\n",
       " 's due': ', ,',\n",
       " ' due,': '   ',\n",
       " 'due, ': 'bum',\n",
       " 'ue, b': 'y',\n",
       " 'e, by': '    ',\n",
       " ', by ': 'tuccanmpltntvtses',\n",
       " 'by th': 'eeeiyyoeyayeayyyieeyeeya',\n",
       " 'he gr': 'aaaeooe',\n",
       " 'e gra': 'vccvccvc',\n",
       " ' grav': 'eeieee',\n",
       " 'grave': '  s,n',\n",
       " 'rave ': 'adhsw',\n",
       " 'ave a': 'nsdnn',\n",
       " 've an': 'ddddd dddydd',\n",
       " 'e and': '                                    ',\n",
       " 'nd th': \"eriaiariyeoiiaeeooeoayeyaeeeiaei'eeaoaaiooeeeeeeoeeeeoyeauaieeeeeieeeeeeaeeyoaoyii\",\n",
       " 'd the': 'ee  e  een  nryrem  y  y   e rrirreernrs re   yrmeeryynyernr i',\n",
       " ' thee': '. .  , ,: ,,   .     .     , ; ,,,.,   ,,  ,,,? ,  , ,, , ,,,,.  :           ,    ,  ,    , ,      ,  ,,,,   ,,. ,   ,   ..  .    ,   ., ,   , ,,         ., ,:   ',\n",
       " 'thee.': '            ',\n",
       " 'when ': 'fttntfetiilhyiiiimbdcsitthttiiamitidtttiiatlwfsstwtymhhisiirbiiyttiiyatoyttmoipihiyfitfiiwiinmttsmttisiiai',\n",
       " 'hen f': 'orriii',\n",
       " 'en fo': 'rrr',\n",
       " 'n for': 't  b  gm   ',\n",
       " ' fort': 'yuiuuuhuhhihuuhuuhh',\n",
       " 'forty': ' ',\n",
       " 'orty ': 'w',\n",
       " 'rty w': 'i',\n",
       " 'ty wi': 'nt',\n",
       " 'y win': 'tk',\n",
       " ' wint': 'eeeeeeeeee',\n",
       " 'winte': 'rrrrrrrrrr',\n",
       " 'inter': \"s  '' ' ei,ce ' ms\",\n",
       " 'nters': '  ',\n",
       " 'ters ': 'sucwna',\n",
       " 'ers s': 'hhee',\n",
       " 'rs sh': 'ao',\n",
       " 's sha': 'llpmdldllldllkll',\n",
       " ' shal': 'llttltllllllltllltllllllllllllllllllllllltlllllllllllttlllltllltlltlll',\n",
       " 'shall': '                                      o                     ',\n",
       " 'hall ': 'bshgtindinctbsrinevossbyssbnilbstnhcsplhlborlbfdiibhiaewiwt',\n",
       " 'all b': 'eeueeaueeeaouey',\n",
       " 'll be': 's   ls fa aa    a    ss',\n",
       " 'l bes': 'ittet',\n",
       " ' besi': 'edded',\n",
       " 'besie': 'gg',\n",
       " 'esieg': 'ee',\n",
       " 'siege': '   ',\n",
       " 'iege ': 'toa',\n",
       " 'ege t': 'h',\n",
       " 'ge th': 'yyyee',\n",
       " 'e thy': '                        ',\n",
       " 'thy b': 'reeeleereoreeeeeroeeurrlelaoe',\n",
       " 'hy br': 'oeaaee',\n",
       " 'y bro': 'www',\n",
       " ' brow': ',,,, :,,',\n",
       " 'brow,': '      ',\n",
       " 'row, ': 'aanbfctiifow',\n",
       " 'ow, a': 'nnnn',\n",
       " 'w, an': 'ddddddd',\n",
       " 'and d': 'ieiaouoawoeeioooioeoeiei',\n",
       " 'nd di': 'geeeds',\n",
       " 'd dig': ' ',\n",
       " ' dig ': 'd',\n",
       " 'dig d': 'e',\n",
       " 'ig de': 'e',\n",
       " 'g dee': 'p',\n",
       " ' deep': '     e   ',\n",
       " 'deep ': 'tsadvwok',\n",
       " 'eep t': 'ro',\n",
       " 'ep tr': 'e',\n",
       " 'p tre': 'n',\n",
       " ' tren': 'c',\n",
       " 'trenc': 'h',\n",
       " 'rench': 'e',\n",
       " 'enche': 'ssd',\n",
       " 'nches': '  ',\n",
       " 'ches ': 'inmrwfgp',\n",
       " 'hes i': 'n',\n",
       " 'es in': '         ',\n",
       " 's in ': 'tjsttpshsmlhmtbhmhhmmtottotmmttdptms',\n",
       " ' in t': 'hhhhhhhhhhhhihhhhahhhhhhhhhhhhhhehhhhhhhhhhhhhhhhrhhhhhhhhhhhhhhhhhhhhhhhhhhhhhhhhhhhhhhhhhhhhhhhhhhhhhhhhhh',\n",
       " 'n thy': '                                       ',\n",
       " 'hy be': 'aaaaaaaaaaahaad',\n",
       " \"y's f\": 'ioo',\n",
       " \"'s fi\": 'erncrr',\n",
       " 's fie': 'lr',\n",
       " ' fiel': 'd',\n",
       " 'field': ',',\n",
       " 'ield,': ' ',\n",
       " 'eld, ': 'ta',\n",
       " 'ld, t': 'hhhhohhh',\n",
       " 'd, th': 'yoeyeaeaeeaoaaoaaayooaaeaoee',\n",
       " 'thy y': 'oe',\n",
       " 'hy yo': 'u',\n",
       " 'y you': 'trrrt r r',\n",
       " ' yout': 'hhhhhhhhhhhhhhhhhh',\n",
       " 'youth': \"'  f   ,,,,f ,  ,,\",\n",
       " \"outh'\": 's',\n",
       " \"uth's\": '  ',\n",
       " \"th's \": 'pceaadsu',\n",
       " \"h's p\": 'rl',\n",
       " \"'s pr\": 'oi',\n",
       " 's pro': 'uvfun',\n",
       " ' prou': 'dddddddddddddddd',\n",
       " 'proud': '       e e- l    ',\n",
       " 'roud ': 'lctcoaoflhhto',\n",
       " 'oud l': 'ia',\n",
       " 'ud li': 'v',\n",
       " 'd liv': 'eeeee',\n",
       " ' live': 'r ?ss s,   s ,,ss:,:  ,,,lsd d .  s,  d ds  l',\n",
       " 'liver': 'yes',\n",
       " 'ivery': ' ',\n",
       " 'very ': 'seswptffpvvhoosbppwabwhwhbbtwbsbwtwpmr',\n",
       " 'ery s': 'oaha',\n",
       " 'ry so': ' ',\n",
       " 'y so ': 'ggtl',\n",
       " ' so g': 'arrrrr',\n",
       " 'so ga': 'z',\n",
       " 'o gaz': 'ee',\n",
       " ' gaze': 'd t r',\n",
       " 'gazed': ' ',\n",
       " 'azed ': 'owqo',\n",
       " 'zed o': 'nb',\n",
       " 'ed on': '       ',\n",
       " 'd on ': 'ndttptnjsd',\n",
       " ' on n': 'oea',\n",
       " 'on no': 'w',\n",
       " 'n now': ',',\n",
       " ' now,': '     ',\n",
       " 'now, ': 'wytbtnnat',\n",
       " 'ow, w': 'ihh',\n",
       " 'w, wi': 'l',\n",
       " ', wil': 'lllttl',\n",
       " ' will': '   i    ,      ,,, i           ,      i  s   , ,           s . ,',\n",
       " 'will ': 'bbpwbbnkbsemncssbtghbbbchansdbgdbbpinmiiinaoomtfoi',\n",
       " 'ill b': 'eeeeeeeeeeiee',\n",
       " 'l be ': 'atttafmmawtctt',\n",
       " ' be a': ' sss b n ',\n",
       " 'be a ': 'tgsd',\n",
       " 'e a t': 'ah',\n",
       " ' a ta': 't',\n",
       " 'a tat': 't',\n",
       " ' tatt': 'ee',\n",
       " 'tatte': 'rr',\n",
       " 'atter': 'ene  y ,,.neyye',\n",
       " 'ttere': 'ddddrd',\n",
       " 'tered': '        ',\n",
       " 'ered ': 'wnoalstfcwnfsimtwhmwbcwg',\n",
       " 'red w': 'eoiiiiioiiii',\n",
       " 'ed we': 'ee',\n",
       " 'd wee': 'dpdk',\n",
       " ' weed': ' s, sss',\n",
       " 'weed ': 'oo',\n",
       " 'eed o': 'fun',\n",
       " 'ed of': '       ',\n",
       " 'd of ': 'smwmymsybmtttgapmamstttd',\n",
       " ' of s': 'muuwuipeeteeuittheouucwithphk',\n",
       " 'of sm': 'a',\n",
       " 'f sma': 'l',\n",
       " ' smal': 'll',\n",
       " 'small': '  ',\n",
       " 'mall ': 'wg',\n",
       " 'all w': 'oeoriao',\n",
       " 'll wo': 'rrr',\n",
       " 'l wor': 'ttm',\n",
       " ' wort': 'hhhhhhhhhhhhhhhhhhhhhhhhhhhhhh',\n",
       " 'worth': \"  y y  y i, s y. i l ,   l  'iy\",\n",
       " 'orth ': 'hnwatewtdtowaigtttat',\n",
       " 'rth h': 'e',\n",
       " 'th he': 'lan rarrr',\n",
       " 'h hel': 'd',\n",
       " ' held': ':,',\n",
       " 'held:': ' ',\n",
       " 'eld: ': 't',\n",
       " 'ld: t': 'hh',\n",
       " 'd: th': 'eaeeaay',\n",
       " ': the': 'nnnnnnnn   y   ',\n",
       " ' then': '              ,                   cc           c   c     cc,    c   c       .   ',\n",
       " 'then ': 'bbhwlwoytblbothmbmrmiccvitmisdtdanmfscoctstbtiolnhndbsigdmsmdthawmuitsltg',\n",
       " 'hen b': 'eeeeeoeeu',\n",
       " 'en be': 'ial gfaltt',\n",
       " 'n bei': 'n',\n",
       " ' bein': 'ggggggggggggggggggggggggggggggg',\n",
       " 'being': '                            ,   ',\n",
       " 'eing ': 'afmmfemmmhlfyyacfwcdwsedmfbmcfprtbt',\n",
       " 'ng as': 'k   ',\n",
       " 'g ask': 'e',\n",
       " ' aske': 'd',\n",
       " 'asked': ',   ,',\n",
       " 'sked,': '  ',\n",
       " 'ked, ': 'wr',\n",
       " 'ed, w': 'hhhhhhhhhhhhi',\n",
       " 'd, wh': 'eeeiieieeaeeoeiieiii',\n",
       " ', whe': 'rrnnnnnrnrnnnnnnnnnrrnnnnnnrnnrnrtrnnnnrnnnrrnnrnrnnrnrnnnnnrrrnrrrnnnr',\n",
       " 're al': 'llall',\n",
       " 'e all': '     ,       , ',\n",
       " ' all ': 'ttiwsgiythhtttnalhlttttotimmttmmmimtdtaeptftmmmowtttotibfaommthttttdmwtmttththtbamtyfktaitctbtmdattttwbmsmmbmm',\n",
       " 'all t': 'hhhooohhhhhhhrhhhheoohihhohhhhohhhhhhhhhhhhhhhoh',\n",
       " 'll th': 'yeeeiiaeeeoeeeeoyeeeyeeoeeyeeeeiiyoyeyeeeeioeayo',\n",
       " 'l thy': '          ',\n",
       " 'auty ': 'lbmowssdwsotttbssboshcilnwoidbgodonslmashlshti',\n",
       " 'uty l': 'iiia',\n",
       " 'ty li': 'evkk',\n",
       " 'y lie': 'ss',\n",
       " 'es, w': 'hehhhehh',\n",
       " 's, wh': 'eiiieaeeeeieioee',\n",
       " 'l the': '  e  n iy   e  y ss   sni   y y  n ',\n",
       " 'the t': 'riioyriiorihheihiorhwiriheiiearhrhr',\n",
       " 'he tr': 'euoeaeuu',\n",
       " 'e tre': 'aaa',\n",
       " ' trea': 'ssssssssdss',\n",
       " 'treas': 'uuuuuuuuuo',\n",
       " 'reasu': 'rrrrrrrrr',\n",
       " 'easur': 'eeeeeeeeeeeeeeeeeeeeeeee',\n",
       " 'asure': '    ,. d,.,   ,,,, s ,! ',\n",
       " 'sure ': 'otetgwwotbioboytlto',\n",
       " 'ure o': 'frffffff',\n",
       " 're of': '             ',\n",
       " 'e of ': 'ttwmtdtyahthotmstmmswmsfhmmptythsbsytyytttyatsfttoawlmhhlommatdysstttvmhcmtshl',\n",
       " ' of t': 'hhhhhhhhihhhhhrhhhhhhhhhhhhhrhhhhhhhhhhhhihhhhhhhahhhhhhhhhhhhhhhhrhhhhhihrhhihhihhhhhrhhhhhhhhhhwhhhr',\n",
       " 'of th': 'yyiyieiyeiaeyiyieyeeyeyyaoeeeeeyyeeeeyeaiyaeeieeyieieeeyyieeaeeieieeiereyeyyeieeiiiyeiyya',\n",
       " 'hy lu': 's',\n",
       " 'y lus': 't',\n",
       " ' lust': 'yy  ',\n",
       " 'lusty': '  ',\n",
       " 'usty ': 'dl',\n",
       " 'sty d': 'a',\n",
       " 'ty da': 'y',\n",
       " 'y day': 'ss  s,s,s',\n",
       " ' days': '; ,  ,.,  ,., :, ',\n",
       " 'days;': ' ',\n",
       " 'ays; ': 't',\n",
       " 'ys; t': 'o',\n",
       " 's; to': ' ',\n",
       " '; to ': 'sts',\n",
       " ' to s': 'atotuueahhheeiaptuuhhhieeetphiphuchalawtw',\n",
       " 'to sa': 'yyyyy',\n",
       " 'o say': ' ,   ',\n",
       " ' say ': \"wswtmm'ym'ttotm'stttnii\",\n",
       " 'say w': 'iie',\n",
       " 'ay wi': 'tttt',\n",
       " 'y wit': 'hhhh.hhhhhhh',\n",
       " 'own d': 'eeee',\n",
       " 'wn de': 'essa',\n",
       " 'n dee': 'pp',\n",
       " 'eep s': 'uo',\n",
       " 'ep su': 'n',\n",
       " 'p sun': 'k',\n",
       " ' sunk': 'e ',\n",
       " 'sunke': 'n',\n",
       " 'unken': ' ',\n",
       " 'nken ': 'e',\n",
       " 'ken e': 'y',\n",
       " 'en ey': 'e',\n",
       " 'n eye': 'ss  ,',\n",
       " 's, we': 'rr',\n",
       " ', wer': 'eeet',\n",
       " ' were': '                            ,',\n",
       " 'were ': 'atnbhmyyfsitibskbiwbrnobbtbi',\n",
       " 're an': ' dddd',\n",
       " 'e an ': 'ao',\n",
       " ' an a': 'lncfd',\n",
       " 'an al': 'll',\n",
       " 'n all': '- e  ,   ',\n",
       " ' all-': 'eot',\n",
       " 'all-e': 'a',\n",
       " 'll-ea': 't',\n",
       " 'l-eat': 'i',\n",
       " '-eati': 'n',\n",
       " 'eatin': 'gg',\n",
       " 'ating': '  ',\n",
       " 'ting ': 'sttcwshiitsmitbomnsyneomthpwtb',\n",
       " 'ing s': 'hitwiwttaottwkhehuwiwtiptouwhtot',\n",
       " 'ng sh': 'aaae',\n",
       " 'g sha': 'mlm',\n",
       " ' sham': 'eeeeeeeeeeeeee',\n",
       " 'shame': ',   ,sf d,,s, ',\n",
       " 'hame,': '     ',\n",
       " 'ame, ': 'aanpwasawbacfs',\n",
       " 'me, a': 'nnnnnsnnnln  nn',\n",
       " 'e, an': 'dddddddddddddddddddddddddddddddddddddddddddddddddddddddddddoddddddddddddddddddgddd',\n",
       " 'd thr': 'ie',\n",
       " ' thri': 'fvcvcvc',\n",
       " 'thrif': 'tttt',\n",
       " 'hrift': 'ly s',\n",
       " 'riftl': 'e',\n",
       " 'iftle': 's',\n",
       " 'ftles': 's',\n",
       " 'tless': '     ',\n",
       " 'less ': 'psutsswtfvcntestydbstpatmtbl',\n",
       " 'ess p': 'rl',\n",
       " 'ss pr': 'a',\n",
       " 's pra': 'ii',\n",
       " ' prai': 'ssssssssssssssssssssssssssssssssssss',\n",
       " 'prais': 'eeeeeeieeieeeeeeeeeeeeeeeeeeeeeeeeeee',\n",
       " 'raise': '.  .   .,   ,   , ,,s d ,, ,d s s.sd',\n",
       " 'aise.': '    ',\n",
       " 'ise. ': 'h',\n",
       " 'se. h': 'oi',\n",
       " 'e. ho': 'w',\n",
       " '. how': '    ',\n",
       " ' how ': 'mwocifmttwwtmhawsttifdlmmwhohcct',\n",
       " 'how m': 'uyeyaueaa',\n",
       " 'ow mu': 'cc',\n",
       " 'w muc': 'hh',\n",
       " ' much': '       ,         ',\n",
       " 'much ': 'mtlrcomaegpomhrd',\n",
       " 'uch m': 'ouoaoy',\n",
       " 'ch mo': 'rrr',\n",
       " 'h mor': 'eeeee',\n",
       " ' more': ' ;,               :            ,,       ,  ,   :        . , ,   ',\n",
       " 'more ': 'pbltbttherrbtaeitnsdbbwrefptslsdafwwctwkstosbbrdpttduiwp',\n",
       " 'ore p': 'rrle',\n",
       " 're pr': 'aa',\n",
       " 'e pra': 'iiiiiy',\n",
       " 'aise ': 'dtttsiccuttdratbo',\n",
       " 'ise d': 'ee',\n",
       " 'se de': 'sva',\n",
       " ' dese': 'rrrrrrrrrr',\n",
       " 'deser': 'vtvtttvvtv',\n",
       " 'eserv': \"ee'eeiee\",\n",
       " 'serve': 'd s   ',\n",
       " 'erved': ' ',\n",
       " 'rved ': 'ttf',\n",
       " 'ved t': 'hhhh',\n",
       " 'ed th': 'yoeeeaeaeeeaeeaeiyoyeeeaeeey',\n",
       " 'd thy': '             ',\n",
       " \"y's u\": 's',\n",
       " \"'s us\": 'ee',\n",
       " 's use': ',  d',\n",
       " ' use,': '    ',\n",
       " 'use, ': 'itsataaaamwia',\n",
       " 'se, i': 'f n',\n",
       " 'e, if': '   ',\n",
       " ', if ': 'tttatsthetltntaninst',\n",
       " ' if t': 'hhehhhhhhhhhhhhhihhhhhhhh',\n",
       " 'if th': 'oooeooeooeeeioyaoeiyoooeaoy',\n",
       " 'f tho': 'uuuuuuuuuuuuuuuuu',\n",
       " 'u cou': 'l',\n",
       " ' coul': 'ddddddddddd',\n",
       " 'could': 's          ',\n",
       " 'oulds': 'tttttttttt',\n",
       " 'uldst': '          ',\n",
       " 'ldst ': 'adbipctoun',\n",
       " 'dst a': 'n',\n",
       " 'st an': 'sdddd',\n",
       " 't ans': 'w',\n",
       " ' answ': 'eeeee',\n",
       " 'answe': 'rrrrr',\n",
       " 'nswer': ' s  e',\n",
       " 'swer ': \"'nm\",\n",
       " \"wer '\": 't',\n",
       " \"er 't\": 'h',\n",
       " \"r 'th\": 'i',\n",
       " \" 'thi\": 's',\n",
       " \"'this\": ' ',\n",
       " 'his f': 'aoaeoioaiulia',\n",
       " 'is fa': 'ilimiril',\n",
       " 's fai': 'rrrrrrrrr',\n",
       " 'fair ': 'cwwacfstbwdlaihawfasinegtfnnabtw',\n",
       " 'air c': 'ha',\n",
       " 'ir ch': 'ia',\n",
       " 'r chi': 'll',\n",
       " ' chil': 'dddddddddd',\n",
       " 'child': ' ,r , !r  ',\n",
       " 'hild ': 'oodoh',\n",
       " 'ild o': 'fff',\n",
       " 'ld of': '  f ',\n",
       " ' of m': 'iaeeeayyiyyyaayeaeeyyiyiyaaeeoeyyooaoyyooeiyyyyyy',\n",
       " 'of mi': 'nnlnn',\n",
       " 'f min': 'eueeee',\n",
       " ' mine': '        ,, ,                 ,   . ,,   ,          ,      ,, ',\n",
       " 'ine s': 'hho',\n",
       " 'ne sh': 'aaao',\n",
       " 'e sha': 'lllmldrlddllldllllllmr',\n",
       " 'all s': 'uiehtttutw',\n",
       " 'll su': 'mbmc',\n",
       " 'l sum': ' mm',\n",
       " ' sum ': 'moo',\n",
       " 'sum m': 'y',\n",
       " 'um my': ' ',\n",
       " 'm my ': 'cjllssmsfs',\n",
       " ' my c': 'olohoo',\n",
       " 'my co': 'umnm',\n",
       " 'y cou': 'nr',\n",
       " ' coun': 'ttttttttttt',\n",
       " 'count': ', e ie ,ieei e  ',\n",
       " 'ount,': '  ',\n",
       " 'unt, ': 'aa',\n",
       " 'and m': 'aaeaoaoeoayiyaouyeaoiaoyooeyeeyayy',\n",
       " 'nd ma': 'kknkkikdk',\n",
       " 'd mak': 'eeeeeeeeeee',\n",
       " ' make': '   l         s       s   s ,s .      st      s  ss,  ',\n",
       " 'make ': 'mswtttdwytgsgmfmobsttymmtmtahhootttltbmm',\n",
       " 'ake m': 'yeeyyeeeeyee',\n",
       " 'ke my': '     ',\n",
       " 'e my ': 'omsvfswljsssllbpgmlsvtshbnaafmcwhgv',\n",
       " ' my o': \"lub'\",\n",
       " 'my ol': 'd',\n",
       " 'y old': ' ',\n",
       " ' old ': 'emtfwnwtwadrtoa',\n",
       " 'old e': 'x',\n",
       " 'ld ex': 'cpa',\n",
       " 'd exc': 'uee',\n",
       " ' excu': 'ssssssss',\n",
       " 'excus': 'eieeeeee',\n",
       " 'xcuse': \"'      \",\n",
       " \"cuse'\": ' ',\n",
       " \"use' \": 'p',\n",
       " \"se' p\": 'r',\n",
       " \"e' pr\": 'o',\n",
       " \"' pro\": 'v',\n",
       " ' prov': 'ieeeeeeoeeeieeeeeeee',\n",
       " 'provi': 'nddn',\n",
       " 'rovin': 'gg',\n",
       " 'oving': ' ,,        ,, ',\n",
       " 'ving ': 'httiwcfpttodnrwhbhttostblmtgst',\n",
       " 'ing h': 'ieaaieeiiaeuiieoeio',\n",
       " 'ng hi': 'smmssms',\n",
       " 'g his': '    ',\n",
       " 'his b': 'euellreeoeereerry',\n",
       " 'is be': 'aassaantsan tnc',\n",
       " 's bea': 'uuuuuumur',\n",
       " 'uty b': 'yeee',\n",
       " 'ty by': '  ',\n",
       " 'y by ': 'snfddn',\n",
       " ' by s': 'uoepe',\n",
       " 'by su': 'c',\n",
       " 'y suc': 'c',\n",
       " ' succ': 'eee',\n",
       " 'succe': 'ses',\n",
       " 'ucces': 'ss',\n",
       " 'ccess': 'iai',\n",
       " 'cessi': 'ov',\n",
       " 'essio': 'nnnnnnn',\n",
       " 'ssion': '  , s   ',\n",
       " 'sion ': 'toighfhbss',\n",
       " 'ion t': 'hoh',\n",
       " 'on th': 'iyeeieyeeeeeeeeyeeeeeioeyyyeaayyyeeyoiaeyuyyaee',\n",
       " 'hine.': '  ',\n",
       " 'ine. ': 'tt',\n",
       " 'ne. t': 'hhhhh',\n",
       " 'e. th': 'ieoeieaoeieeoeeeea',\n",
       " '. thi': 'ssssnss',\n",
       " 'his w': 'eirioieoiii',\n",
       " 'is we': 'ra',\n",
       " 's wer': 'eee',\n",
       " 'ere t': 'ohhhhhhhhwhhiho',\n",
       " 're to': '             o',\n",
       " 'e to ': 'bsgbhasbccattwbmtotwttmtbbmatsgtswmtmstbtntayywmmdsocqcmgcpssgithsbwhmjtbpapdmbk',\n",
       " ' to b': 'eeeererroeeereeleeeeeieeeeeeeoeaeeeeel',\n",
       " 'to be': ' , . a  ah  , .  ,    . :  ,',\n",
       " 'o be ': 'ngdwahrwpdvsscmiab',\n",
       " ' be n': 'eooeo',\n",
       " 'be ne': 'wa',\n",
       " 'e new': ' .',\n",
       " ' new ': 'mwpupaatfhlf',\n",
       " 'new m': 'a',\n",
       " 'ew ma': 'd',\n",
       " 'w mad': 'e,',\n",
       " ' made': '   ,   ,:          ',\n",
       " 'made ': 'wflofsmtasmobmot',\n",
       " 'ade w': 'h',\n",
       " 'de wh': 'ei',\n",
       " ' when': '                                  c                                     c                        c ',\n",
       " 'hen t': 'hhhhhhohehhhohhhhhhhhhhhhhhyehhhhhh',\n",
       " 'en th': 'ooeeoeeaooeooeaeoaeeoaooaeooeeaoooaoyeoe',\n",
       " 'n tho': 'uuuuuusuuuuuuusuuuurusuuuu',\n",
       " 'hou a': 'rrbrrrrmrrrrrlrrrrrrrrrrlrrrrrrwgrrrrrrfr',\n",
       " 'ou ar': 'ttttttetettttttttttttetttettttteetttttt',\n",
       " 'u art': '  ,    ?   .,,   ,,         ,    ',\n",
       " 'art o': 'lfffffff',\n",
       " 'rt ol': 'd',\n",
       " 't old': ',  ',\n",
       " ' old,': '      ',\n",
       " 'old, ': 'aastiwbsafhtntatatt',\n",
       " 'ld, a': 'nngnnnnl',\n",
       " 'd, an': 'ddddddddddddddddddddddddddddddddddddddddd',\n",
       " 'and s': 'ehteauhtuoeohiutacootitouuottwptioiuupehleauweoh',\n",
       " 'nd se': 'eealeae',\n",
       " 'd see': '  m,  ',\n",
       " ' see ': 'ttbohwhtttawdmdttdinwatj',\n",
       " 'see t': 'hhihhhhh',\n",
       " 'ee th': 'yyeieeaaeyeeeaaoo',\n",
       " 'hy bl': 'oai',\n",
       " 'y blo': 'ot',\n",
       " ' bloo': 'dddddmdddddd',\n",
       " 'blood': '  y,y  ,,?y',\n",
       " ...}"
      ]
     },
     "execution_count": 49,
     "metadata": {},
     "output_type": "execute_result"
    }
   ],
   "source": [
    "probs"
   ]
  },
  {
   "cell_type": "code",
   "execution_count": null,
   "metadata": {
    "hidden": true
   },
   "outputs": [],
   "source": []
  }
 ],
 "metadata": {
  "kernelspec": {
   "display_name": "Python 3",
   "language": "python",
   "name": "python3"
  },
  "language_info": {
   "codemirror_mode": {
    "name": "ipython",
    "version": 3
   },
   "file_extension": ".py",
   "mimetype": "text/x-python",
   "name": "python",
   "nbconvert_exporter": "python",
   "pygments_lexer": "ipython3",
   "version": "3.7.0"
  },
  "toc": {
   "base_numbering": 1,
   "nav_menu": {
    "height": "151px",
    "width": "194px"
   },
   "number_sections": true,
   "sideBar": true,
   "skip_h1_title": false,
   "title_cell": "Table of Contents",
   "title_sidebar": "Contents",
   "toc_cell": false,
   "toc_position": {
    "height": "calc(100% - 180px)",
    "left": "10px",
    "top": "150px",
    "width": "273.188px"
   },
   "toc_section_display": true,
   "toc_window_display": true
  }
 },
 "nbformat": 4,
 "nbformat_minor": 2
}
