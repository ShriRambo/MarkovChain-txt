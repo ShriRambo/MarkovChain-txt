{
 "cells": [
  {
   "cell_type": "code",
   "execution_count": 1,
   "metadata": {},
   "outputs": [],
   "source": [
    "import numpy as np\n",
    "import string"
   ]
  },
  {
   "cell_type": "code",
   "execution_count": null,
   "metadata": {},
   "outputs": [],
   "source": []
  },
  {
   "cell_type": "code",
   "execution_count": 2,
   "metadata": {},
   "outputs": [],
   "source": [
    "file = open('./Source_text/heyJude.txt','r')"
   ]
  },
  {
   "cell_type": "code",
   "execution_count": 3,
   "metadata": {},
   "outputs": [],
   "source": [
    "dat = file.read();"
   ]
  },
  {
   "cell_type": "code",
   "execution_count": null,
   "metadata": {},
   "outputs": [],
   "source": []
  },
  {
   "cell_type": "code",
   "execution_count": 4,
   "metadata": {},
   "outputs": [],
   "source": [
    "def calcProb(dat,order):\n",
    "    n = len(dat)\n",
    "    probs = {}\n",
    "    \n",
    "    for i in range(0,n-order):\n",
    "        ngram = dat[i:i+order];\n",
    "        nchar = dat[i+order];\n",
    "        try:\n",
    "            probs[ngram] += nchar\n",
    "        except KeyError:\n",
    "            probs[ngram] = nchar\n",
    "            \n",
    "    return probs  "
   ]
  },
  {
   "cell_type": "code",
   "execution_count": 5,
   "metadata": {},
   "outputs": [],
   "source": [
    "def generateText(prob,length,init,order):\n",
    "    stin = init\n",
    "    ngram = init\n",
    "    \n",
    "    for i in range(0,length):\n",
    "        st = prob[ngram]\n",
    "        ch = np.random.choice(list(st));\n",
    "        stin += ch\n",
    "        if (ch=='.') & (np.random.rand() < 0.2): break\n",
    "        #print(stin)\n",
    "        ngram = stin[-order:]\n",
    "        \n",
    "    return stin"
   ]
  },
  {
   "cell_type": "code",
   "execution_count": 6,
   "metadata": {},
   "outputs": [],
   "source": [
    "order = 6\n",
    "probs = calcProb(dat,order)"
   ]
  },
  {
   "cell_type": "code",
   "execution_count": 14,
   "metadata": {},
   "outputs": [
    {
     "name": "stdout",
     "output_type": "stream",
     "text": [
      "Hey Jude, refrain\n",
      "Don't carry the world upon your heart \n",
      "Then you begin\n",
      "You're waiting for someone to perform with.\n"
     ]
    }
   ],
   "source": [
    "init = dat[0:order]\n",
    "print(\n",
    "    generateText(probs,1000,init,order)  \n",
    ")"
   ]
  },
  {
   "cell_type": "code",
   "execution_count": null,
   "metadata": {},
   "outputs": [],
   "source": []
  },
  {
   "cell_type": "code",
   "execution_count": null,
   "metadata": {},
   "outputs": [],
   "source": []
  }
 ],
 "metadata": {
  "kernelspec": {
   "display_name": "Python 3",
   "language": "python",
   "name": "python3"
  },
  "language_info": {
   "codemirror_mode": {
    "name": "ipython",
    "version": 3
   },
   "file_extension": ".py",
   "mimetype": "text/x-python",
   "name": "python",
   "nbconvert_exporter": "python",
   "pygments_lexer": "ipython3",
   "version": "3.7.0"
  },
  "toc": {
   "base_numbering": 1,
   "nav_menu": {},
   "number_sections": true,
   "sideBar": true,
   "skip_h1_title": false,
   "title_cell": "Table of Contents",
   "title_sidebar": "Contents",
   "toc_cell": false,
   "toc_position": {},
   "toc_section_display": true,
   "toc_window_display": false
  }
 },
 "nbformat": 4,
 "nbformat_minor": 2
}
